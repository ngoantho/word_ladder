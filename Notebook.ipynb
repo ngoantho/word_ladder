{
 "metadata": {
  "language_info": {
   "codemirror_mode": {
    "name": "ipython",
    "version": 3
   },
   "file_extension": ".py",
   "mimetype": "text/x-python",
   "name": "python",
   "nbconvert_exporter": "python",
   "pygments_lexer": "ipython3",
   "version": "3.9.1-final"
  },
  "orig_nbformat": 2,
  "kernelspec": {
   "name": "python3",
   "display_name": "Python 3.9.1 64-bit ('.venv')",
   "metadata": {
    "interpreter": {
     "hash": "da73862442cf7ba95aaee3ab2e5b87ac0088d90a042e20c68248c5e4729f9a20"
    }
   }
  }
 },
 "nbformat": 4,
 "nbformat_minor": 2,
 "cells": [
  {
   "source": [
    "# Word Ladder generator\n",
    "\n",
    "Transforms a starting word to an ending word using a word list as a sequence of steps such that:\n",
    "- the first word in the sequence is `begin`\n",
    "- the end word in the sequence is `end`\n",
    "- only one letter in difference between each adjacent pair of words\n",
    "- every word in the sequence is in wordList"
   ],
   "cell_type": "markdown",
   "metadata": {}
  },
  {
   "cell_type": "code",
   "execution_count": 22,
   "metadata": {},
   "outputs": [],
   "source": [
    "import collections"
   ]
  },
  {
   "cell_type": "code",
   "execution_count": 23,
   "metadata": {},
   "outputs": [],
   "source": [
    "def preprocessWordList(wordList):\n",
    "    \"\"\"\n",
    "    In a given word, say 'word', adds to a dictionary the placeholder letters\n",
    "    that could be from other words\n",
    "    word: _ord, w_rd, wo_d, wor_\n",
    "    Adds to the dictionary:\n",
    "    [\"_ord\"]: [\"word\"]\n",
    "    [\"w_rd\"]: [\"word\"]\n",
    "    [\"wo_d\"]: [\"word\"]\n",
    "    [\"wor_\"]: [\"word\"]\n",
    "    If another word has the same key/permutation, append said word\n",
    "    \"\"\"\n",
    "\n",
    "    fuzzyMatch = {}\n",
    "    for word in wordList:\n",
    "        for i in range(len(word)):\n",
    "            partial = word[:i] + \"_\" + word[i + 1 :]\n",
    "            if not partial in fuzzyMatch:\n",
    "                fuzzyMatch[partial] = []\n",
    "            fuzzyMatch[partial].append(word)\n",
    "    return fuzzyMatch"
   ]
  },
  {
   "cell_type": "code",
   "execution_count": 24,
   "metadata": {},
   "outputs": [],
   "source": [
    "def outputWordLadder(ladders, start, end):\n",
    "    \"\"\"\n",
    "    - ladders will be empty if there really are no word ladders possible from\n",
    "    start to end\n",
    "    1. compute the lengths of generated word ladders\n",
    "    2. get the shortest by calling min()\n",
    "    3. for each generated word ladder, if the shortest is found, format and\n",
    "       print it\n",
    "    \"\"\"\n",
    "\n",
    "    if ladders == []:\n",
    "        printNoLadder(start, end)\n",
    "        return\n",
    "    pathsLengths = [len(ladder) for ladder in ladders]\n",
    "    shortestLen = min(pathsLengths)\n",
    "    for ladder in ladders:\n",
    "        if len(ladder) == shortestLen:\n",
    "            print(f\"The ladder is: {formatLadder(ladder)}\", end=\"\\n\\n\")\n",
    "            break"
   ]
  },
  {
   "cell_type": "code",
   "execution_count": 25,
   "metadata": {},
   "outputs": [],
   "source": [
    "def formatLadder(ladder):\n",
    "    return \" -> \".join(ladder)\n",
    "\n",
    "\n",
    "def printNoLadder(start, end):\n",
    "    print(f\"No ladder found from {start} to {end}\", end=\"\\n\\n\")\n",
    "\n",
    "\n",
    "def printLenMismatch(start, end):\n",
    "    print(f\"{start} and {end} are not the same length\", end=\"\\n\\n\")"
   ]
  },
  {
   "cell_type": "code",
   "execution_count": 33,
   "metadata": {},
   "outputs": [],
   "source": [
    "def lookForLadder(startWord, endWord, wordWidget):\n",
    "    wordList = wordWidget.split('\\n')\n",
    "    fuzzyMatch = preprocessWordList(wordList)\n",
    "    queue = collections.deque([])\n",
    "    visited = set([])\n",
    "    ladders = []\n",
    "\n",
    "    print(f\"** Looking for ladder from {startWord} to {endWord}\")\n",
    "    if endWord not in wordList:\n",
    "        printNoLadder(startWord,endWord)\n",
    "        return\n",
    "    elif len(startWord) != len(endWord):\n",
    "        printLenMismatch(startWord,endWord)\n",
    "        return\n",
    "    else:\n",
    "        queue.append((startWord, [startWord]))\n",
    "\n",
    "    visited.add(startWord)\n",
    "    while len(queue) != 0:\n",
    "        for repeat in range(len(queue)):\n",
    "            word, walk = queue.popleft()\n",
    "            for i in range(len(word)):\n",
    "                for nextWord in fuzzyMatch[word[:i] + \"_\" + word[i + 1 :]]:\n",
    "                    if nextWord == endWord:\n",
    "                        ladders.append(walk + [endWord])\n",
    "                    elif nextWord not in visited:\n",
    "                        visited.add(nextWord)\n",
    "                        queue.append((nextWord, walk + [nextWord]))\n",
    "    outputWordLadder(ladders, startWord, endWord)"
   ]
  },
  {
   "cell_type": "code",
   "execution_count": 27,
   "metadata": {},
   "outputs": [
    {
     "output_type": "display_data",
     "data": {
      "text/plain": "Textarea(value='', placeholder='List of valid words')",
      "application/vnd.jupyter.widget-view+json": {
       "version_major": 2,
       "version_minor": 0,
       "model_id": "a27c3641020d49c7b0cf3e2762864f0e"
      }
     },
     "metadata": {}
    },
    {
     "output_type": "display_data",
     "data": {
      "text/plain": "Text(value='', placeholder='Start word')",
      "application/vnd.jupyter.widget-view+json": {
       "version_major": 2,
       "version_minor": 0,
       "model_id": "1b0655c26b9a44a894a33e23bfe31cce"
      }
     },
     "metadata": {}
    },
    {
     "output_type": "display_data",
     "data": {
      "text/plain": "Text(value='', placeholder='End word')",
      "application/vnd.jupyter.widget-view+json": {
       "version_major": 2,
       "version_minor": 0,
       "model_id": "ee70e0b58949439a8aea7f71a081b5d0"
      }
     },
     "metadata": {}
    }
   ],
   "source": [
    "import ipywidgets as widgets\n",
    "wordList = widgets.Textarea(\n",
    "    placeholder=\"List of valid words\"\n",
    ")\n",
    "startWord = widgets.Text(\n",
    "    placeholder=\"Start word\"\n",
    ")\n",
    "endWord = widgets.Text(\n",
    "    placeholder=\"End word\"\n",
    ")\n",
    "display(wordList)\n",
    "display(startWord)\n",
    "display(endWord)"
   ]
  },
  {
   "cell_type": "code",
   "execution_count": 31,
   "metadata": {},
   "outputs": [
    {
     "output_type": "display_data",
     "data": {
      "text/plain": "Button(description='Clear output', style=ButtonStyle())",
      "application/vnd.jupyter.widget-view+json": {
       "version_major": 2,
       "version_minor": 0,
       "model_id": "0606e3ec3a574afb9c3f9db92e7915fa"
      }
     },
     "metadata": {}
    },
    {
     "output_type": "display_data",
     "data": {
      "text/plain": "Button(description='Start!', style=ButtonStyle())",
      "application/vnd.jupyter.widget-view+json": {
       "version_major": 2,
       "version_minor": 0,
       "model_id": "bd7a6ed51754477ba1ef450f6e4de305"
      }
     },
     "metadata": {}
    },
    {
     "output_type": "display_data",
     "data": {
      "text/plain": "Output()",
      "application/vnd.jupyter.widget-view+json": {
       "version_major": 2,
       "version_minor": 0,
       "model_id": "c1311813e3fc46dc9e34ba687db7490d"
      }
     },
     "metadata": {}
    }
   ],
   "source": [
    "start_button = widgets.Button(\n",
    "    description = \"Start!\",\n",
    ")\n",
    "clear_button = widgets.Button(\n",
    "    description = \"Clear output\"\n",
    ")\n",
    "output = widgets.Output()\n",
    "display(clear_button)\n",
    "display(start_button, output)\n",
    "\n",
    "def start_button_clicked(_):\n",
    "    with output:\n",
    "        output.clear_output()\n",
    "        lookForLadder(startWord.value, endWord.value, wordList.value)\n",
    "def clear_button_clicked(_):\n",
    "    with output:\n",
    "        output.clear_output()\n",
    "start_button.on_click(start_button_clicked)\n",
    "clear_button.on_click(clear_button_clicked)"
   ]
  },
  {
   "cell_type": "code",
   "execution_count": 16,
   "metadata": {},
   "outputs": [],
   "source": []
  },
  {
   "cell_type": "code",
   "execution_count": null,
   "metadata": {},
   "outputs": [],
   "source": []
  }
 ]
}